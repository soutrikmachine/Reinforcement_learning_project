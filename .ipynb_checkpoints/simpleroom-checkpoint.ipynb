{
  "metadata": {
    "language_info": {
      "mimetype": "text/x-python",
      "nbconvert_exporter": "python",
      "name": "python",
      "pygments_lexer": "ipython3",
      "version": "3.5.4",
      "file_extension": ".py",
      "codemirror_mode": {
        "version": 3,
        "name": "ipython"
      }
    },
    "kernelspec": {
      "name": "python3",
      "display_name": "Python 3",
      "language": "python"
    }
  },
  "nbformat_minor": 2,
  "nbformat": 4,
  "cells": [
    {
      "cell_type": "code",
      "source": "import numpy as np\n\n### Interface\nclass Environment(object):\n\n    def reset(self):\n        raise NotImplementedError('Inheriting classes must override reset.')\n\n    def actions(self):\n        raise NotImplementedError('Inheriting classes must override actions.')\n\n    def step(self):\n        raise NotImplementedError('Inheriting classes must override step')\n\nclass ActionSpace(object):\n    \n    def __init__(self, actions):\n        self.actions = actions\n        self.n = len(actions)\n        \n### SimpleRoomsEnv Environment \n\nclass SimpleRoomsEnv(Environment):\n    \"\"\"Define a simple 4-room environment\"\"\"\n    \"\"\"actions: 0 - north, 1 - east, 2 - west, 3 - south\"\"\"\n\n    def __init__(self):\n        super(SimpleRoomsEnv, self).__init__()\n\n        # define state and action space\n        self.S = range(16)\n        self.action_space = ActionSpace(range(4))\n\n        # define reward structure\n        self.R = [0] * len(self.S)\n        self.R[15] = 1\n        \n        # define transitions\n        self.P = {}\n        self.P[0] = [1, 4]\n        self.P[1] = [0, 2, 5]\n        self.P[2] = [1, 3, 6]\n        self.P[3] = [2, 7]\n        self.P[4] = [0, 5, 8]\n        self.P[5] = [1, 4]\n        self.P[6] = [2, 7]\n        self.P[7] = [3, 6, 11]\n        self.P[8] = [4, 9, 12]\n        self.P[9] = [8, 13]\n        self.P[10] = [11, 14]\n        self.P[11] = [7, 10, 15]\n        self.P[12] = [8, 13]\n        self.P[13] = [9, 12, 14]\n        self.P[14] = [10, 13, 15]\n        self.P[15] = [11, 14]\n\n        self.max_trajectory_length = 50\n        self.tolerance = 0.1\n        self._rendered_maze = self._render_maze()\n        \n    def step(self, action):\n        s_prev = self.s\n        self.s = self.single_step(self.s, action)\n        reward = self.single_reward(self.s, s_prev, self.R)\n        self.nstep += 1\n        self.is_reset = False\n\n        if (reward < -1. * (self.tolerance) or reward > self.tolerance) or self.nstep == self.max_trajectory_length:\n            self.reset()\n\n        return (self._convert_state(self.s), reward, self.is_reset, '')\n    \n    def single_step(self, s, a):\n        if a < 0 or a > 3:\n            raise ValueError('Unknown action', a)\n        if a == 0 and (s-4 in self.P[s]):\n            s -= 4\n        elif a == 1 and (s+1 in self.P[s]):\n            s += 1\n        elif a == 2 and (s-1 in self.P[s]):\n            s -= 1\n        elif a == 3 and (s+4 in self.P[s]):\n            s += 4\n        return s\n\n    def single_reward(self, s, s_prev, rewards):\n        if s == s_prev:\n            return 0\n        return rewards[s]\n    \n    def reset(self):\n        self.nstep = 0\n        self.s = 0\n        self.is_reset = True\n        return self._convert_state(self.s)\n    \n    def _convert_state(self, s):\n        converted = np.zeros(len(self.S), dtype=np.float32)\n        converted[s] = 1\n        return converted\n    \n    def _get_render_coords(self, s):\n        return (int(s / 4) * 4, (s % 4) * 4)\n    \n    def _render_maze(self):\n        # draw background and grid lines\n        maze = np.zeros((17, 17))\n        for x in range(0, 17, 4):\n            maze[x, :] = 0.5\n        for y in range(0, 17, 4):\n            maze[:, y] = 0.5\n\n        # draw reward and transitions\n        for s in range(16):\n            if self.R[s] != 0:\n                x, y = self._get_render_coords(s)\n                maze[x+1:x+4, y+1:y+4] = self.R[s]\n            if self.single_step(s, 0) == s:\n                x, y = self._get_render_coords(s)\n                maze[x, y:y+5] = -1\n            if self.single_step(s, 1) == s:\n                x, y = self._get_render_coords(s)\n                maze[x:x+5, y+4] = -1\n            if self.single_step(s, 2) == s:\n                x, y = self._get_render_coords(s)\n                maze[x:x+5, y] = -1\n            if self.single_step(s, 3) == s:\n                x, y = self._get_render_coords(s)\n                maze[x+4, y:y+4] = -1\n        return maze\n\n    def render(self, mode = 'rgb_array'):\n        assert mode == 'rgb_array', 'Unknown mode: %s' % mode\n        img = np.array(self._rendered_maze, copy=True)\n\n        # draw current agent location\n        x, y = self._get_render_coords(self.s)\n        img[x+1:x+4, y+1:y+4] = 2.0\n        return img",
      "metadata": {
        "trusted": true
      },
      "execution_count": 4,
      "outputs": []
    },
    {
      "cell_type": "code",
      "source": "",
      "metadata": {},
      "execution_count": null,
      "outputs": []
    }
  ]
}